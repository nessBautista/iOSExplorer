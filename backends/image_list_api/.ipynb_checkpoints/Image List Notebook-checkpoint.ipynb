{
 "cells": [
  {
   "cell_type": "code",
   "execution_count": 6,
   "id": "ac0aeab9",
   "metadata": {},
   "outputs": [
    {
     "name": "stdout",
     "output_type": "stream",
     "text": [
      "Item-0 https://wolverine.raywenderlich.com/books/con/image-from-rawpixel-id-466780-jpeg.jpghttps://wolverine.raywenderlich.com/books/con/image-from-rawpixel-id-466818-jpeg.jpg\n",
      "Item-1 https://wolverine.raywenderlich.com/books/con/image-from-rawpixel-id-466821-jpeg.jpg\n",
      "Item-2 https://wolverine.raywenderlich.com/books/con/image-from-rawpixel-id-466848-jpeg.jpg\n",
      "Item-3 https://wolverine.raywenderlich.com/books/con/image-from-rawpixel-id-466853-jpeg.jpg\n",
      "Item-4 https://wolverine.raywenderlich.com/books/con/image-from-rawpixel-id-466876-jpeg.jpg\n",
      "Item-5 https://wolverine.raywenderlich.com/books/con/image-from-rawpixel-id-466881-jpeg.jpg\n",
      "Item-6 https://wolverine.raywenderlich.com/books/con/image-from-rawpixel-id-466910-jpeg.jpg\n",
      "Item-7 https://wolverine.raywenderlich.com/books/con/image-from-rawpixel-id-466925-jpeg.jpg\n",
      "Item-8 https://wolverine.raywenderlich.com/books/con/image-from-rawpixel-id-466931-jpeg.jpg\n"
     ]
    }
   ],
   "source": [
    "from imageList.models import ListItem\n",
    "\n",
    "urls = [\n",
    "\"https://wolverine.raywenderlich.com/books/con/image-from-rawpixel-id-466780-jpeg.jpg\"\n",
    "\"https://wolverine.raywenderlich.com/books/con/image-from-rawpixel-id-466818-jpeg.jpg\",\n",
    "\"https://wolverine.raywenderlich.com/books/con/image-from-rawpixel-id-466821-jpeg.jpg\",\n",
    "\"https://wolverine.raywenderlich.com/books/con/image-from-rawpixel-id-466848-jpeg.jpg\",\n",
    "\"https://wolverine.raywenderlich.com/books/con/image-from-rawpixel-id-466853-jpeg.jpg\",\n",
    "\"https://wolverine.raywenderlich.com/books/con/image-from-rawpixel-id-466876-jpeg.jpg\",\n",
    "\"https://wolverine.raywenderlich.com/books/con/image-from-rawpixel-id-466881-jpeg.jpg\",\n",
    "\"https://wolverine.raywenderlich.com/books/con/image-from-rawpixel-id-466910-jpeg.jpg\",\n",
    "\"https://wolverine.raywenderlich.com/books/con/image-from-rawpixel-id-466925-jpeg.jpg\",\n",
    "\"https://wolverine.raywenderlich.com/books/con/image-from-rawpixel-id-466931-jpeg.jpg\",\n",
    "]\n",
    "\n",
    "\n",
    "for i in range(9):\n",
    "    title = f\"Item-{i}\"\n",
    "    url = urls[i]\n",
    "    print(title, url)"
   ]
  }
 ],
 "metadata": {
  "kernelspec": {
   "display_name": "Django Shell-Plus",
   "language": "python",
   "name": "django_extensions"
  },
  "language_info": {
   "codemirror_mode": {
    "name": "ipython",
    "version": 3
   },
   "file_extension": ".py",
   "mimetype": "text/x-python",
   "name": "python",
   "nbconvert_exporter": "python",
   "pygments_lexer": "ipython3",
   "version": "3.10.5"
  }
 },
 "nbformat": 4,
 "nbformat_minor": 5
}
